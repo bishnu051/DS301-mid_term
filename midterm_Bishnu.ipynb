{
 "cells": [
  {
   "cell_type": "code",
   "execution_count": 2,
   "id": "a8a57480",
   "metadata": {},
   "outputs": [],
   "source": [
    "\n",
    "import pandas as pd\n",
    "import numpy as np\n",
    "from sklearn.model_selection import train_test_split\n",
    "from sklearn.preprocessing import StandardScaler\n",
    "from sklearn.linear_model import LogisticRegression\n",
    "from sklearn.tree import DecisionTreeClassifier\n",
    "from sklearn.ensemble import RandomForestClassifier\n",
    "from sklearn.metrics import accuracy_score, precision_score, matthews_corrcoef\n",
    "from imblearn.over_sampling import SMOTE\n",
    "from sklearn.feature_selection import VarianceThreshold\n"
   ]
  },
  {
   "cell_type": "code",
   "execution_count": 3,
   "id": "b731397a",
   "metadata": {},
   "outputs": [
    {
     "name": "stdout",
     "output_type": "stream",
     "text": [
      "(10127, 17)\n",
      "Index(['Unnamed: 0', 'step', 'type', 'branch', 'amount', 'nameOrig',\n",
      "       'oldbalanceOrg', 'newbalanceOrig', 'nameDest', 'oldbalanceDest',\n",
      "       'newbalanceDest', 'unusuallogin', 'isFlaggedFraud', 'Acct type',\n",
      "       'Date of transaction', 'Time of day', 'isFraud'],\n",
      "      dtype='object')\n"
     ]
    }
   ],
   "source": [
    "df2 = pd.read_csv(\"Datasets.csv\")\n",
    "print(df2.shape)\n",
    "print(df2.columns)"
   ]
  },
  {
   "cell_type": "code",
   "execution_count": 4,
   "id": "a37731ba",
   "metadata": {},
   "outputs": [],
   "source": [
    "df2.rename(columns={df2.columns[-1]: \"isFraud\"}, inplace=True)\n",
    "\n",
    "df2 = df2.replace([np.inf, -np.inf], np.nan)\n",
    "df2 = df2.dropna()"
   ]
  },
  {
   "cell_type": "code",
   "execution_count": 5,
   "id": "7ac9c376",
   "metadata": {},
   "outputs": [],
   "source": [
    "X2 = df2.drop(\"isFraud\", axis=1)\n",
    "y2 = df2[\"isFraud\"]\n",
    "\n",
    "non_numeric_cols = X2.select_dtypes(include=['object']).columns\n",
    "X2 = X2.drop(columns=non_numeric_cols)\n",
    "\n",
    "X2 = X2.astype(float)\n",
    "y2 = y2[X2.index]  "
   ]
  },
  {
   "cell_type": "code",
   "execution_count": 6,
   "id": "2a2dfed8",
   "metadata": {},
   "outputs": [
    {
     "name": "stdout",
     "output_type": "stream",
     "text": [
      "After SMOTE: [10020 10020]\n"
     ]
    },
    {
     "name": "stderr",
     "output_type": "stream",
     "text": [
      "/Users/bishnukoirala/Library/Python/3.9/lib/python/site-packages/sklearn/base.py:474: FutureWarning: `BaseEstimator._validate_data` is deprecated in 1.6 and will be removed in 1.7. Use `sklearn.utils.validation.validate_data` instead. This function becomes public and is part of the scikit-learn developer API.\n",
      "  warnings.warn(\n"
     ]
    }
   ],
   "source": [
    "smote = SMOTE(random_state=42)\n",
    "X2_resampled, y2_resampled = smote.fit_resample(X2, y2)\n",
    "print(\"After SMOTE:\", np.bincount(y2_resampled))\n",
    "\n",
    "scaler = StandardScaler()\n",
    "X2_scaled = scaler.fit_transform(X2_resampled)"
   ]
  },
  {
   "cell_type": "code",
   "execution_count": 7,
   "id": "cf2c3b0b",
   "metadata": {},
   "outputs": [],
   "source": [
    "\n",
    "X_train, X_test, y_train, y_test = train_test_split(X2_scaled, y2_resampled, test_size=0.2, random_state=42)"
   ]
  },
  {
   "cell_type": "code",
   "execution_count": null,
   "id": "d11b0828",
   "metadata": {},
   "outputs": [
    {
     "name": "stdout",
     "output_type": "stream",
     "text": [
      "\n",
      "Training Logistic Regression...\n",
      "\n",
      "Training Decision Tree...\n",
      "\n",
      "Training Random Forest...\n",
      "\n",
      "Training Isolation Forest...\n",
      "\n",
      "Training Local Outlier Factor...\n",
      "\n",
      "Model Performance:\n",
      "\n",
      "                  Model  Accuracy  Precision       MCC\n",
      "0   Logistic Regression  0.817116   0.790871  0.636676\n",
      "1         Decision Tree  0.992515   0.989960  0.985041\n",
      "2         Random Forest  0.997255   0.994977  0.994521\n",
      "3      Isolation Forest  0.997255   0.994977  0.994521\n",
      "4  Local Outlier Factor  0.997255   0.994977  0.994521\n"
     ]
    }
   ],
   "source": [
    "from sklearn.ensemble import IsolationForest\n",
    "from sklearn.neighbors import LocalOutlierFactor\n",
    "\n",
    "\n",
    "models = {\n",
    "    \"Logistic Regression\": LogisticRegression(max_iter=2000, solver='saga'),\n",
    "    \"Decision Tree\": DecisionTreeClassifier(),\n",
    "    \"Random Forest\": RandomForestClassifier(n_estimators=100),\n",
    "    \"Isolation Forest\": IsolationForest(contamination=0.001, random_state=42),\n",
    "    \"Local Outlier Factor\": LocalOutlierFactor(n_neighbors=20, contamination=0.001, novelty=True)\n",
    "}\n",
    "\n",
    "results = []\n",
    "\n",
    "for name, model in models.items():\n",
    "    print(f\"\\nTraining {name}...\")\n",
    "\n",
    "    if name in [\"Isolation Forest\", \"Local Outlier Factor\"]:\n",
    "        model.fit(X_train)  # Fits only on X for unsupervised\n",
    "        y_pred = model.predict(X_test)\n",
    "        # Converts anomaly labels: -1 → 1 (fraud), 1 → 0 (normal)\n",
    "        y_pred = [1 if x == -1 else 0 for x in y_pred]\n",
    "    else:\n",
    "        model.fit(X_train, y_train)\n",
    "        y_pred = model.predict(X_test)\n",
    "\n",
    "    accuracy = accuracy_score(y_test, y_pred)\n",
    "    precision = precision_score(y_test, y_pred)\n",
    "    mcc = matthews_corrcoef(y_test, y_pred)\n",
    "\n",
    "    results.append({\n",
    "        'Model': name,\n",
    "        'Accuracy': accuracy,\n",
    "        'Precision': precision,\n",
    "        'MCC': mcc\n",
    "    })\n",
    "\n",
    "results_df = pd.DataFrame(results)\n",
    "print(\"\\nModel Performance:\\n\")\n",
    "print(results_df)\n"
   ]
  },
  {
   "cell_type": "code",
   "execution_count": null,
   "id": "779d3488",
   "metadata": {},
   "outputs": [],
   "source": [
    "\n"
   ]
  },
  {
   "cell_type": "code",
   "execution_count": null,
   "id": "4a3faf09",
   "metadata": {},
   "outputs": [],
   "source": []
  }
 ],
 "metadata": {
  "kernelspec": {
   "display_name": "Python 3",
   "language": "python",
   "name": "python3"
  },
  "language_info": {
   "codemirror_mode": {
    "name": "ipython",
    "version": 3
   },
   "file_extension": ".py",
   "mimetype": "text/x-python",
   "name": "python",
   "nbconvert_exporter": "python",
   "pygments_lexer": "ipython3",
   "version": "3.9.6"
  }
 },
 "nbformat": 4,
 "nbformat_minor": 5
}

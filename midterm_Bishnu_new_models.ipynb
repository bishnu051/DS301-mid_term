{
 "cells": [
  {
   "cell_type": "code",
   "execution_count": 1,
   "id": "16f3e812",
   "metadata": {},
   "outputs": [],
   "source": [
    "import pandas as pd\n",
    "import numpy as np\n",
    "import matplotlib.pyplot as plt\n",
    "import seaborn as sns\n",
    "\n",
    "from sklearn.model_selection import train_test_split\n",
    "from sklearn.preprocessing import StandardScaler\n",
    "from sklearn.linear_model import LogisticRegression\n",
    "from sklearn.tree import DecisionTreeClassifier\n",
    "from sklearn.ensemble import RandomForestClassifier\n",
    "from sklearn.svm import SVC\n",
    "from sklearn.metrics import accuracy_score, precision_score, matthews_corrcoef, confusion_matrix, classification_report\n"
   ]
  },
  {
   "cell_type": "code",
   "execution_count": 2,
   "id": "30115231",
   "metadata": {},
   "outputs": [
    {
     "name": "stdout",
     "output_type": "stream",
     "text": [
      "(284807, 31)\n",
      "Class\n",
      "0    0.998273\n",
      "1    0.001727\n",
      "Name: proportion, dtype: float64\n"
     ]
    }
   ],
   "source": [
    "df = pd.read_csv('creditcard.csv')  \n",
    "print(df.shape)\n",
    "print(df['Class'].value_counts(normalize=True))\n"
   ]
  },
  {
   "cell_type": "code",
   "execution_count": 3,
   "id": "2459cda5",
   "metadata": {},
   "outputs": [],
   "source": [
    "scaler = StandardScaler()\n",
    "df['Amount'] = scaler.fit_transform(df[['Amount']])\n"
   ]
  },
  {
   "cell_type": "code",
   "execution_count": 4,
   "id": "7c3819e7",
   "metadata": {},
   "outputs": [],
   "source": [
    "X = df.drop('Class', axis=1)\n",
    "y = df['Class']\n"
   ]
  },
  {
   "cell_type": "code",
   "execution_count": 5,
   "id": "59b3a3f6",
   "metadata": {},
   "outputs": [
    {
     "name": "stderr",
     "output_type": "stream",
     "text": [
      "/Users/bishnukoirala/Library/Python/3.9/lib/python/site-packages/sklearn/base.py:474: FutureWarning: `BaseEstimator._validate_data` is deprecated in 1.6 and will be removed in 1.7. Use `sklearn.utils.validation.validate_data` instead. This function becomes public and is part of the scikit-learn developer API.\n",
      "  warnings.warn(\n"
     ]
    },
    {
     "name": "stdout",
     "output_type": "stream",
     "text": [
      "After SMOTE: [284315 284315]\n"
     ]
    }
   ],
   "source": [
    "from imblearn.over_sampling import SMOTE\n",
    "\n",
    "smote = SMOTE(random_state=42)\n",
    "X_resampled, y_resampled = smote.fit_resample(X, y)\n",
    "\n",
    "print(\"After SMOTE:\", np.bincount(y_resampled))\n"
   ]
  },
  {
   "cell_type": "code",
   "execution_count": 6,
   "id": "8f4e3036",
   "metadata": {},
   "outputs": [],
   "source": [
    "X_train, X_test, y_train, y_test = train_test_split(X_resampled, y_resampled, test_size=0.2, random_state=42)\n"
   ]
  },
  {
   "cell_type": "code",
   "execution_count": null,
   "id": "1f069851",
   "metadata": {},
   "outputs": [
    {
     "name": "stdout",
     "output_type": "stream",
     "text": [
      "Training SGD (SVM Approximation)...\n",
      "Finished training SGD (SVM Approximation) in 17.46s\n",
      "Training XGBoost...\n"
     ]
    },
    {
     "name": "stderr",
     "output_type": "stream",
     "text": [
      "/Users/bishnukoirala/Library/Python/3.9/lib/python/site-packages/xgboost/core.py:158: UserWarning: [15:29:09] WARNING: /Users/runner/work/xgboost/xgboost/src/learner.cc:740: \n",
      "Parameters: { \"use_label_encoder\" } are not used.\n",
      "\n",
      "  warnings.warn(smsg, UserWarning)\n"
     ]
    },
    {
     "name": "stdout",
     "output_type": "stream",
     "text": [
      "Finished training XGBoost in 0.67s\n",
      "\n",
      "New Model Performance:\n",
      "                     Model  Accuracy  Precision    MCC  Training Time (s)\n",
      "0  SGD (SVM Approximation)    0.5026     0.5018 0.0398            17.4562\n",
      "1                  XGBoost    0.9996     0.9992 0.9992             0.6738\n"
     ]
    }
   ],
   "source": [
    "import pandas as pd\n",
    "import time\n",
    "from sklearn.linear_model import SGDClassifier\n",
    "from xgboost import XGBClassifier\n",
    "from sklearn.metrics import accuracy_score, precision_score, matthews_corrcoef\n",
    "\n",
    "X_train_sample = X_train.copy()\n",
    "y_train_sample = y_train.copy()\n",
    "\n",
    "new_models = {\n",
    "    \"SGD (SVM Approximation)\": SGDClassifier(loss='hinge', max_iter=1000, tol=1e-3, random_state=42),\n",
    "    \"XGBoost\": XGBClassifier(n_estimators=50, use_label_encoder=False, eval_metric='logloss', random_state=42, n_jobs=-1)\n",
    "}\n",
    "\n",
    "task4_results = []\n",
    "\n",
    "for name, model in new_models.items():\n",
    "    print(f\"Training {name}...\")\n",
    "    start_time = time.time()\n",
    "\n",
    "    model.fit(X_train_sample, y_train_sample)\n",
    "    duration = time.time() - start_time\n",
    "\n",
    "    print(f\"Finished training {name} in {duration:.2f}s\")\n",
    "\n",
    "    y_pred = model.predict(X_test)\n",
    "\n",
    "    accuracy = accuracy_score(y_test, y_pred)\n",
    "    precision = precision_score(y_test, y_pred, zero_division=0)\n",
    "    mcc = matthews_corrcoef(y_test, y_pred)\n",
    "\n",
    "    task4_results.append({\n",
    "        'Model': name,\n",
    "        'Accuracy': accuracy,\n",
    "        'Precision': precision,\n",
    "        'MCC': mcc,\n",
    "        'Training Time (s)': duration\n",
    "    })\n",
    "\n",
    "task4_results_df = pd.DataFrame(task4_results)\n",
    "pd.set_option('display.float_format', '{:.4f}'.format)\n",
    "print(\"\\nNew Model Performance:\")\n",
    "print(task4_results_df)\n"
   ]
  },
  {
   "cell_type": "code",
   "execution_count": null,
   "id": "d09b46fd",
   "metadata": {},
   "outputs": [],
   "source": []
  }
 ],
 "metadata": {
  "kernelspec": {
   "display_name": "Python 3",
   "language": "python",
   "name": "python3"
  },
  "language_info": {
   "codemirror_mode": {
    "name": "ipython",
    "version": 3
   },
   "file_extension": ".py",
   "mimetype": "text/x-python",
   "name": "python",
   "nbconvert_exporter": "python",
   "pygments_lexer": "ipython3",
   "version": "3.9.6"
  }
 },
 "nbformat": 4,
 "nbformat_minor": 5
}
